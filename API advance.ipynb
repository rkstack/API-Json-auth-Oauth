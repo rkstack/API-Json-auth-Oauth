{
 "cells": [
  {
   "cell_type": "markdown",
   "metadata": {},
   "source": [
    "## API (Application Programming Interfaces) - Adv "
   ]
  },
  {
   "cell_type": "markdown",
   "metadata": {},
   "source": [
    "\n",
    "----------------------------------------------------------------------------\n",
    "* THis user name and password will be used for the entire notebook"
   ]
  },
  {
   "cell_type": "code",
   "execution_count": 1,
   "metadata": {},
   "outputs": [],
   "source": [
    "username=''\n",
    "password=''"
   ]
  },
  {
   "cell_type": "markdown",
   "metadata": {},
   "source": [
    "-------------------------------------------------------------------------------"
   ]
  },
  {
   "cell_type": "markdown",
   "metadata": {},
   "source": [
    "### Github License"
   ]
  },
  {
   "cell_type": "markdown",
   "metadata": {},
   "source": [
    "Fetch the license used in ‘google/go-cloud’ Github repository from Github API using basic auth i.e by passing username and password\n",
    "Print the license name.\n",
    "Note:Read the Github API documentation carefully.\n",
    "Output Format:\n",
    "\n",
    "license_name"
   ]
  },
  {
   "cell_type": "code",
   "execution_count": 2,
   "metadata": {},
   "outputs": [
    {
     "name": "stdout",
     "output_type": "stream",
     "text": [
      "Apache License 2.0\n"
     ]
    }
   ],
   "source": [
    "import requests\n",
    "# from requests.auth import HTTPBasicAuth   # explore HTTPDigestAuth\n",
    "# jsondata=requests.get('',auth=HTTPBasicAuth('nidhi@codingninjas.in','cnninjas123'))\n",
    "jsondata=requests.get('https://api.github.com/repos/google/go-cloud',auth=(username,password))\n",
    "data=jsondata.json()\n",
    "print(data['license']['name'])\n",
    "\n",
    "\n"
   ]
  },
  {
   "cell_type": "markdown",
   "metadata": {},
   "source": [
    "### All Topics "
   ]
  },
  {
   "cell_type": "markdown",
   "metadata": {},
   "source": [
    "Fetch the list of topics that are present in ‘google/clusterfuzz’ Github repository from Github API using basic auth i.e by passing username and password.\n",
    "Print the topic names\n",
    "Note:Read the Github API documentation carefully.\n",
    "Output Format:\n",
    "\n",
    "topic_name1\n",
    "\n",
    "topic_name2"
   ]
  },
  {
   "cell_type": "code",
   "execution_count": 3,
   "metadata": {},
   "outputs": [
    {
     "name": "stdout",
     "output_type": "stream",
     "text": [
      "fuzzing\n",
      "security\n",
      "stability\n",
      "vulnerabilities\n"
     ]
    }
   ],
   "source": [
    "import requests\n",
    "from requests.auth import HTTPBasicAuth\n",
    "\n",
    "# https://docs.github.com/en/rest/reference/repos#get-all-repository-topics-preview-notices\n",
    "header_info={ 'Accept' : 'application/vnd.github.mercy-preview+json' }    \n",
    "jsondata=requests.get('https://api.github.com/repos/google/clusterfuzz/topics',\n",
    "                      auth=HTTPBasicAuth(username,password), headers=header_info)\n",
    "\n",
    "\n",
    "for i in jsondata.json()['names']:\n",
    "     print(i)"
   ]
  },
  {
   "cell_type": "markdown",
   "metadata": {},
   "source": [
    "###  Github Languages "
   ]
  },
  {
   "cell_type": "markdown",
   "metadata": {},
   "source": [
    "Fetch the list of languages used in ‘google/science-journal-ios’ Github repository from Github API using basic auth i.e by passing username and password.\n",
    "Print the language name.\n",
    "Note:Read the Github API documentation carefully.\n",
    "Output Format:\n",
    "\n",
    "language_name1\n",
    "\n",
    "language_name2"
   ]
  },
  {
   "cell_type": "code",
   "execution_count": 4,
   "metadata": {},
   "outputs": [
    {
     "name": "stdout",
     "output_type": "stream",
     "text": [
      "Swift\n",
      "HTML\n",
      "Python\n",
      "Ruby\n",
      "Shell\n"
     ]
    }
   ],
   "source": [
    "import requests\n",
    "headerinfo={\"Accept\": \"application/vnd.github.v3+json\"}\n",
    "jsondata=requests.get('https://api.github.com/repos/google/science-journal-ios/languages',\n",
    "                      auth=(username,password),headers=headerinfo)\n",
    "data=jsondata.json()\n",
    "\n",
    "for item in data:\n",
    "    print(item)"
   ]
  },
  {
   "cell_type": "markdown",
   "metadata": {},
   "source": [
    "### Github License"
   ]
  },
  {
   "cell_type": "markdown",
   "metadata": {},
   "source": [
    "Fetch all the members of the organisation 'CodingNinjasCodes' from Github API using OAuth(access token).\n",
    "Print the username of members present in organisation.\n",
    "Output Format:\n",
    "\n",
    "username_1\n",
    "username_2"
   ]
  },
  {
   "cell_type": "code",
   "execution_count": 1,
   "metadata": {},
   "outputs": [
    {
     "name": "stdout",
     "output_type": "stream",
     "text": [
      "aakash-cr7\n",
      "dakshkhetan\n",
      "ManishaKhattar\n",
      "namangupta01\n",
      "nidhiagarwal\n",
      "rohanraarora\n"
     ]
    }
   ],
   "source": [
    "import requests\n",
    "\n",
    "jsondata=requests.get('https://api.github.com/orgs/CodingNinjasCodes/members')\n",
    "data=jsondata.json()\n",
    "\n",
    "\n",
    "for item in data:\n",
    "    print(item['login'])"
   ]
  },
  {
   "cell_type": "markdown",
   "metadata": {},
   "source": [
    "### github repo contributors "
   ]
  },
  {
   "cell_type": "markdown",
   "metadata": {},
   "source": [
    "Fetch the list of contributors in the repository 'CodingNinjasCodes/JSNotes' in Github from Github API using OAuth(access token).\n",
    "Print the username of contributors and its number of commit done.\n",
    "Output Format:\n",
    "\n",
    "username1 commit_count_1\n",
    "\n",
    "username2 commit_count_2"
   ]
  },
  {
   "cell_type": "code",
   "execution_count": 2,
   "metadata": {},
   "outputs": [
    {
     "name": "stdout",
     "output_type": "stream",
     "text": [
      "Sherawat42 15\n",
      "tushartuteja 5\n",
      "Rawal27 13\n"
     ]
    }
   ],
   "source": [
    "import requests\n",
    "\n",
    "#jsondata=requests.get('https://api.github.com/repos/CodingNinjasCodes/JSNotes/contributors')   # wrong link\n",
    "jsondata=requests.get('https://api.github.com/repos/CodingNinjasCodes/JSNotes/stats/contributors')\n",
    "data=jsondata.json()\n",
    "\n",
    "for item in data:\n",
    "    print(item['author']['login'],item['total'])"
   ]
  },
  {
   "cell_type": "markdown",
   "metadata": {},
   "source": [
    "### Github repo health "
   ]
  },
  {
   "cell_type": "markdown",
   "metadata": {},
   "source": [
    "Fetch the health percentage of repository 'CodingNinjasCodes/SmoothScrollJs' in Github from Github API using OAuth(access token).\n",
    "Print the health percentage of Repository as Integer Value.\n",
    "Note: Check the Github API documentation of Community Profile.\n",
    "Output Format:\n",
    "\n",
    "health_percentage"
   ]
  },
  {
   "cell_type": "code",
   "execution_count": 3,
   "metadata": {},
   "outputs": [
    {
     "name": "stdout",
     "output_type": "stream",
     "text": [
      "28\n"
     ]
    }
   ],
   "source": [
    "import requests\n",
    "\n",
    "jsondata=requests.get('https://api.github.com/repos/CodingNinjasCodes/SmoothScrollJs/community/profile')\n",
    "data=jsondata.json()\n",
    "\n",
    "print(data['health_percentage'])"
   ]
  },
  {
   "cell_type": "markdown",
   "metadata": {},
   "source": [
    "### github all repo "
   ]
  },
  {
   "cell_type": "markdown",
   "metadata": {},
   "source": [
    "Fetch the all repositories of organisation ‘fossasia’ from Github API using OAuth(access token)\n",
    "Print the name of repository.\n",
    "Output Format:\n",
    "\n",
    "repository_name1\n",
    "\n",
    "repository_name2\n",
    "\n",
    "repository_name3"
   ]
  },
  {
   "cell_type": "code",
   "execution_count": null,
   "metadata": {},
   "outputs": [],
   "source": [
    "import requests\n",
    "\n",
    "for i in range(5):\n",
    "    para_info={'per_page':100,'page':i+1}\n",
    "    jsondata=requests.get('https://api.github.com/orgs/fossasia/repos',params=para_info)\n",
    "    data=jsondata.json()\n",
    "    for item in data:\n",
    "        print(item['name'])"
   ]
  },
  {
   "cell_type": "markdown",
   "metadata": {},
   "source": [
    "### This coding was done by @RK2021"
   ]
  }
 ],
 "metadata": {
  "kernelspec": {
   "display_name": "Python 3",
   "language": "python",
   "name": "python3"
  },
  "language_info": {
   "codemirror_mode": {
    "name": "ipython",
    "version": 3
   },
   "file_extension": ".py",
   "mimetype": "text/x-python",
   "name": "python",
   "nbconvert_exporter": "python",
   "pygments_lexer": "ipython3",
   "version": "3.8.5"
  }
 },
 "nbformat": 4,
 "nbformat_minor": 4
}
