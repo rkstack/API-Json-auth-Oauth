{
 "cells": [
  {
   "cell_type": "markdown",
   "metadata": {},
   "source": [
    "##  API & HTTP Libraries"
   ]
  },
  {
   "cell_type": "markdown",
   "metadata": {},
   "source": [
    "There are number of well known API such as Google Maps API, Facebook,weather API, Youtube API, Twitter API etc. To make request to these API and get response we use http libraries such as httplib,urllib,requests.\n",
    "\n",
    "Here we will be using the simplest http library \"requests\""
   ]
  },
  {
   "cell_type": "code",
   "execution_count": 33,
   "metadata": {},
   "outputs": [
    {
     "name": "stdout",
     "output_type": "stream",
     "text": [
      "200\n"
     ]
    }
   ],
   "source": [
    "import requests\n",
    "\n",
    "# use get() method to create responsejsondata object\n",
    "responsejsondata=requests.get('https://codingninjas.in/api/v3/courses')\n",
    "\n",
    "# check status of the API call\n",
    "status=responsejsondata.status_code\n",
    "print(status)"
   ]
  },
  {
   "cell_type": "code",
   "execution_count": null,
   "metadata": {},
   "outputs": [],
   "source": [
    "print(responsejsondata.encoding)   # get the encoding details of the response data\n",
    "print(responsejsondata.url)        # get the url infor\n",
    "head=responsejsondata.headers      # get the headers from the the json data\n",
    "print(head)                        # print header value\n",
    "print(type(response.text))         # print the json text data type\n",
    "print(response.text)               # print the json data text"
   ]
  },
  {
   "cell_type": "markdown",
   "metadata": {},
   "source": [
    "json data is usually dictionaries and can be transformed in python format"
   ]
  },
  {
   "cell_type": "code",
   "execution_count": 35,
   "metadata": {},
   "outputs": [
    {
     "name": "stdout",
     "output_type": "stream",
     "text": [
      "<class 'dict'>\n",
      "{'Student': 'Mohit'}\n"
     ]
    }
   ],
   "source": [
    "import json                          # import json to use it for conversion process\n",
    "jason_data='{\"Student\":\"Mohit\"}'     # json data in dictionary format\n",
    "python_data=json.loads(jason_data)   # use loads method to convert it into python data\n",
    "\n",
    "print(type(python_data))             # print data type\n",
    "print(python_data)                   # print data      \n"
   ]
  },
  {
   "cell_type": "code",
   "execution_count": 32,
   "metadata": {},
   "outputs": [
    {
     "name": "stdout",
     "output_type": "stream",
     "text": [
      "System Design Course\n",
      "Competitive Programmer\n",
      "Premium Web Dev Course\n",
      "Premium Machine Learning Course\n",
      "Premium Competitive Course\n",
      "Front End (React)\n",
      "Machine Learning\n",
      "Data structures and Algorithms [C++/Java/Python]\n",
      "Premium Data Science Course\n",
      "Premium Android Course\n",
      "C++ & Data Structures\n",
      "Web Dev (Full Stack)\n",
      "Android Developer\n",
      "Java & Data Structures\n",
      "Data Science\n",
      "Grokking the Operating Systems Interview\n",
      "Interview Preparation\n",
      "Python & Web Dev (MERN)\n",
      "Competitive Programming\n",
      "C++ & Web Dev (Node.js)\n",
      "Data Scientist\n",
      "Python & Data Structures\n",
      "Android (Kotlin)\n",
      "Aptitude Preparation\n",
      "Machine Learning\n"
     ]
    }
   ],
   "source": [
    "import requests\n",
    "import json\n",
    "\n",
    "respjsondata=requests.get('https://codingninjas.in/api/v3/courses') # creat object\n",
    "pythondata=json.loads(respjsondata.text)                            #use json.loads to get python readable data\n",
    "# pythondata=respjsondata.json()      This is better alternate option, using requests builin json  converter   \n",
    "\n",
    "coursedatalist=pythondata['data']['courses']                        #use browser to get the structure of json data\n",
    "                                                                    #embedded dictionary keys cascade call and stored\n",
    "\n",
    "for item in coursedatalist:                                         #print the value of key 'title', all courses\n",
    "    print(item['title'])"
   ]
  },
  {
   "cell_type": "markdown",
   "metadata": {},
   "source": [
    "### This coding was done by @RK2021"
   ]
  }
 ],
 "metadata": {
  "kernelspec": {
   "display_name": "Python 3",
   "language": "python",
   "name": "python3"
  },
  "language_info": {
   "codemirror_mode": {
    "name": "ipython",
    "version": 3
   },
   "file_extension": ".py",
   "mimetype": "text/x-python",
   "name": "python",
   "nbconvert_exporter": "python",
   "pygments_lexer": "ipython3",
   "version": "3.8.5"
  }
 },
 "nbformat": 4,
 "nbformat_minor": 4
}
