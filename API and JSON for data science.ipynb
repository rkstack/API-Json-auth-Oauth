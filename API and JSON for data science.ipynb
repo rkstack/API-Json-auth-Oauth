{
 "cells": [
  {
   "cell_type": "markdown",
   "metadata": {},
   "source": [
    "## API & JSON data manipulation"
   ]
  },
  {
   "cell_type": "markdown",
   "metadata": {},
   "source": [
    "###  1. Hound sub-breeds "
   ]
  },
  {
   "cell_type": "markdown",
   "metadata": {},
   "source": [
    "Print all sub-breeds of hound by making a get request to given URL.\n",
    "URL : https://dog.ceo/api/breeds/list/all\n",
    "Print name of sub-breeds in different lines"
   ]
  },
  {
   "cell_type": "code",
   "execution_count": 7,
   "metadata": {},
   "outputs": [
    {
     "name": "stdout",
     "output_type": "stream",
     "text": [
      "afghan\n",
      "basset\n",
      "blood\n",
      "english\n",
      "ibizan\n",
      "plott\n",
      "walker\n"
     ]
    }
   ],
   "source": [
    "import requests\n",
    "jsondata=requests.get('https://dog.ceo/api/breeds/list/all')\n",
    "data=jsondata.json()\n",
    "\n",
    "houndbreed=data['message']['hound']\n",
    "for item in houndbreed:\n",
    "    print(item)         # print sub-breed"
   ]
  },
  {
   "cell_type": "markdown",
   "metadata": {},
   "source": [
    "### 2. Poodle sub breeds count"
   ]
  },
  {
   "cell_type": "markdown",
   "metadata": {},
   "source": [
    "Print the count of total sub-breeds of poodle "
   ]
  },
  {
   "cell_type": "code",
   "execution_count": 14,
   "metadata": {},
   "outputs": [
    {
     "name": "stdout",
     "output_type": "stream",
     "text": [
      "3\n"
     ]
    }
   ],
   "source": [
    "import requests\n",
    "jsondata=requests.get('https://dog.ceo/api/breeds/list/all')\n",
    "data=jsondata.json()\n",
    "poodlebreed=data['message']['poodle']\n",
    "\n",
    "print(len(poodlebreed))"
   ]
  },
  {
   "cell_type": "markdown",
   "metadata": {},
   "source": [
    "### 3. CN Online Courses "
   ]
  },
  {
   "cell_type": "markdown",
   "metadata": {},
   "source": [
    "Print name of all online courses offered by Coding Ninjas. You can fetch the data using their open API :\n",
    "\n",
    "https://api.codingninjas.com/api/v3/courses .\n"
   ]
  },
  {
   "cell_type": "code",
   "execution_count": 24,
   "metadata": {},
   "outputs": [
    {
     "name": "stdout",
     "output_type": "stream",
     "text": [
      "System Design Course\n",
      "Ninja Competitive Programmer Track\n",
      "Premium Full Stack Web Development\n",
      "Premium Machine Learning Course\n",
      "Premium Competitive Programming Course\n",
      "Advanced  Front-End Web Development with React\n",
      "Machine Learning & Deep Learning Course\n",
      "Premium Data structures and Algorithms [C++/Java/Python]\n",
      "Premium Data Science Course\n",
      "Premium Android App Development\n",
      "C++ Foundation with Data Structures\n",
      "Full Stack Web Development\n",
      "Ninja Android Developer Career Track \n",
      "JAVA Foundation with Data Structures\n",
      "Data Science & Machine Learning Complete\n",
      "Grokking the Operating Systems Interview\n",
      "Interview Preparation Course\n",
      "Ninja  Web Developer Career Track - NodeJS & ReactJs\n",
      "Competitive Programming Course\n",
      "Ninja  Web Developer Career Track - NodeJS\n",
      "Ninja Data Scientist Career Track\n",
      "Python Foundation with Data Structures\n",
      "Android Development with Kotlin\n",
      "Aptitude Preparation Course\n",
      "Ninja Machine Learning Engineer Career Track\n"
     ]
    }
   ],
   "source": [
    "import requests\n",
    "jsondata=requests.get('https://api.codingninjas.com/api/v3/courses')\n",
    "data=jsondata.json()\n",
    "listofdict=data['data']['courses']\n",
    "\n",
    "for item in listofdict:\n",
    "    if item['available_online'] is True:\n",
    "        print(item['name'])\n"
   ]
  },
  {
   "cell_type": "markdown",
   "metadata": {},
   "source": [
    "### 4. Workshop Events "
   ]
  },
  {
   "cell_type": "markdown",
   "metadata": {},
   "source": [
    "Print description of first event from Coding Ninjas Events API\n",
    "If ther are no events in this API, then print \"No Events !\"\n",
    "Data can be fetched from this URL :\n",
    "\n",
    "https://api.codingninjas.com/api/v3/events?event_category=ALL_EVENTS&event_sub_category=All%20Time%20Favorites&tag_list=&offset=0\n"
   ]
  },
  {
   "cell_type": "code",
   "execution_count": 25,
   "metadata": {},
   "outputs": [
    {
     "name": "stdout",
     "output_type": "stream",
     "text": [
      "Run through the wave of codes smoothly and showcase your coding skills to stay ahead amongst your peers. Coding Ninjas brings to you Placement Checker  in collaboration with IIIT Delhi  an Online coding test that'll tease your brains! \n"
     ]
    }
   ],
   "source": [
    "import requests\n",
    "jsondata=requests.get('https://api.codingninjas.com/api/v3/events?event_category=ALL_EVENTS&event_sub_category=All%20Time%20Favorites&tag_list=&offset=0')\n",
    "data=jsondata.json()\n",
    "print(data['data']['events'][0]['short_desc'])\n"
   ]
  },
  {
   "cell_type": "markdown",
   "metadata": {},
   "source": [
    "### 5. Title of course "
   ]
  },
  {
   "cell_type": "markdown",
   "metadata": {},
   "source": [
    "Print the title of course with id=19.\n",
    "URL : http://api.codingninjas.com/api/v3/courses\n"
   ]
  },
  {
   "cell_type": "code",
   "execution_count": 5,
   "metadata": {
    "scrolled": true
   },
   "outputs": [
    {
     "name": "stdout",
     "output_type": "stream",
     "text": [
      "Machine Learning\n"
     ]
    }
   ],
   "source": [
    "import requests\n",
    "jsondata=requests.get('http://api.codingninjas.com/api/v3/courses')\n",
    "data=jsondata.json()\n",
    "\n",
    "coursedictlist=data['data']['courses']\n",
    "\n",
    "for i in range (len(coursedictlist)):\n",
    "    if coursedictlist[i]['id']==19:\n",
    "        print(coursedictlist[i]['title'])\n"
   ]
  },
  {
   "cell_type": "markdown",
   "metadata": {},
   "source": [
    "### 5.Total number of cities "
   ]
  },
  {
   "cell_type": "markdown",
   "metadata": {},
   "source": [
    "Count the total number of cities of country AU from this URL : https://api.openaq.org/v1/cities/"
   ]
  },
  {
   "cell_type": "code",
   "execution_count": 15,
   "metadata": {},
   "outputs": [
    {
     "name": "stdout",
     "output_type": "stream",
     "text": [
      "69\n"
     ]
    }
   ],
   "source": [
    "import requests\n",
    "jsondata=requests.get('https://api.openaq.org/v1/cities',params={'country':'AU'})\n",
    "data=jsondata.json()\n",
    "print(len(data['results']))"
   ]
  },
  {
   "cell_type": "markdown",
   "metadata": {},
   "source": [
    "### 6. Cities from BE "
   ]
  },
  {
   "cell_type": "markdown",
   "metadata": {},
   "source": [
    "Print first 5 cities from country “BE”. Fetch the result from given URL.\n",
    "Order the results by city.\n",
    "URL - https://api.openaq.org/v1/cities\n",
    "Documentation - https://docs.openaq.org/\n"
   ]
  },
  {
   "cell_type": "code",
   "execution_count": 19,
   "metadata": {},
   "outputs": [
    {
     "name": "stdout",
     "output_type": "stream",
     "text": [
      "Antwerpen\n",
      "Brabant wallon\n",
      "Brussels-Capital Region\n",
      "Flanders\n",
      "Hainaut\n"
     ]
    }
   ],
   "source": [
    "import requests\n",
    "jsondata=requests.get('https://api.openaq.org/v1/cities',params={'country':'BE','limit':5})\n",
    "data=jsondata.json()\n",
    "\n",
    "for i in range(len(data['results'])):\n",
    "    print(data['results'][i]['name'])"
   ]
  },
  {
   "cell_type": "markdown",
   "metadata": {},
   "source": [
    "### 7. USA WOEID"
   ]
  },
  {
   "cell_type": "markdown",
   "metadata": {},
   "source": [
    "Make an API call to -\n",
    "\n",
    "https://www.metaweather.com/api/location/search/\n",
    "Search for \"USA\" and print its woeid.\n",
    "\n"
   ]
  },
  {
   "cell_type": "code",
   "execution_count": 25,
   "metadata": {},
   "outputs": [
    {
     "name": "stdout",
     "output_type": "stream",
     "text": [
      "1132447\n"
     ]
    }
   ],
   "source": [
    "import requests\n",
    "jsondata=requests.get('https://www.metaweather.com/api/location/search',params={'query':'USA'})\n",
    "data=jsondata.json()\n",
    "\n",
    "print(data[0]['woeid'])"
   ]
  },
  {
   "cell_type": "markdown",
   "metadata": {},
   "source": [
    "### 8. Holiday"
   ]
  },
  {
   "cell_type": "markdown",
   "metadata": {},
   "source": [
    "Find name of holiday on 2nd October 2020 in country India.\n",
    "You can read the documentation here : https://holidayapi.com/\n"
   ]
  },
  {
   "cell_type": "code",
   "execution_count": 56,
   "metadata": {},
   "outputs": [
    {
     "name": "stdout",
     "output_type": "stream",
     "text": [
      "Mahatma Gandhi's Birthday\n"
     ]
    }
   ],
   "source": [
    "import requests\n",
    "jsondata=requests.get('https://holidayapi.com/v1/holidays',params={'country':'IN','key':'3b48047c-008d-4536-b620-7ce00214d648','year':2020,'month':10,'day':2})\n",
    "data=jsondata.json()\n",
    "print(data['holidays'][0]['name'])\n"
   ]
  },
  {
   "cell_type": "markdown",
   "metadata": {},
   "source": [
    "#### This coding was done by @RK2021"
   ]
  }
 ],
 "metadata": {
  "kernelspec": {
   "display_name": "Python 3",
   "language": "python",
   "name": "python3"
  },
  "language_info": {
   "codemirror_mode": {
    "name": "ipython",
    "version": 3
   },
   "file_extension": ".py",
   "mimetype": "text/x-python",
   "name": "python",
   "nbconvert_exporter": "python",
   "pygments_lexer": "ipython3",
   "version": "3.8.5"
  }
 },
 "nbformat": 4,
 "nbformat_minor": 4
}
